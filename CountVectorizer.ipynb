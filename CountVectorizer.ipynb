{
  "nbformat": 4,
  "nbformat_minor": 0,
  "metadata": {
    "colab": {
      "provenance": [],
      "authorship_tag": "ABX9TyM5Oy1OqPg/hkwcLFMhw491",
      "include_colab_link": true
    },
    "kernelspec": {
      "name": "python3",
      "display_name": "Python 3"
    },
    "language_info": {
      "name": "python"
    }
  },
  "cells": [
    {
      "cell_type": "markdown",
      "metadata": {
        "id": "view-in-github",
        "colab_type": "text"
      },
      "source": [
        "<a href=\"https://colab.research.google.com/github/LotusEater04/NLP/blob/main/CountVectorizer.ipynb\" target=\"_parent\"><img src=\"https://colab.research.google.com/assets/colab-badge.svg\" alt=\"Open In Colab\"/></a>"
      ]
    },
    {
      "cell_type": "code",
      "execution_count": 18,
      "metadata": {
        "id": "sWxlNKlAnU1A"
      },
      "outputs": [],
      "source": [
        "from sklearn.feature_extraction.text import CountVectorizer"
      ]
    },
    {
      "cell_type": "code",
      "source": [
        "documents = [\n",
        "    \"I am a machine learning model.\",\n",
        "    \"Machine learning works with data\",\n",
        "    \"Natural language processing is a subfield of artificial intelligence.\",\n",
        "    \"Artificial intelligence is a subfield that i am really interested in\"\n",
        "]"
      ],
      "metadata": {
        "id": "xHI-IkvbnmoO"
      },
      "execution_count": 19,
      "outputs": []
    },
    {
      "cell_type": "markdown",
      "source": [
        "Neden I kısmını almadığı araştırılacak."
      ],
      "metadata": {
        "id": "EHvtNCcuxJBh"
      }
    },
    {
      "cell_type": "code",
      "source": [
        "vectorizer = CountVectorizer()\n",
        "#vectorizer = CountVectorizer(lowercase = False)\n",
        "#vectorizer = CountVectorizer(stop_words = \"english\")\n",
        "\n",
        "X = vectorizer.fit_transform(documents)\n",
        "\n",
        "print(\"Feauture of Words:\", vectorizer.get_feature_names_out())\n",
        "print(\"Word Frequency List:\", X.toarray())"
      ],
      "metadata": {
        "colab": {
          "base_uri": "https://localhost:8080/"
        },
        "id": "OthHGEyonus-",
        "outputId": "c0b41bd5-22b9-45c4-8220-8e66c13351ff"
      },
      "execution_count": 20,
      "outputs": [
        {
          "output_type": "stream",
          "name": "stdout",
          "text": [
            "Feauture of Words: ['am' 'artificial' 'data' 'in' 'intelligence' 'interested' 'is' 'language'\n",
            " 'learning' 'machine' 'model' 'natural' 'of' 'processing' 'really'\n",
            " 'subfield' 'that' 'with' 'works']\n",
            "Word Frequency List: [[1 0 0 0 0 0 0 0 1 1 1 0 0 0 0 0 0 0 0]\n",
            " [0 0 1 0 0 0 0 0 1 1 0 0 0 0 0 0 0 1 1]\n",
            " [0 1 0 0 1 0 1 1 0 0 0 1 1 1 0 1 0 0 0]\n",
            " [1 1 0 1 1 1 1 0 0 0 0 0 0 0 1 1 1 0 0]]\n"
          ]
        }
      ]
    }
  ]
}