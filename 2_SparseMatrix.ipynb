{
  "nbformat": 4,
  "nbformat_minor": 0,
  "metadata": {
    "colab": {
      "provenance": [],
      "toc_visible": true,
      "authorship_tag": "ABX9TyPEQQ62kDDkBO/XtufuOqLQ",
      "include_colab_link": true
    },
    "kernelspec": {
      "name": "python3",
      "display_name": "Python 3"
    },
    "language_info": {
      "name": "python"
    }
  },
  "cells": [
    {
      "cell_type": "markdown",
      "metadata": {
        "id": "view-in-github",
        "colab_type": "text"
      },
      "source": [
        "<a href=\"https://colab.research.google.com/github/LotusEater04/NLP/blob/main/2_SparseMatrix.ipynb\" target=\"_parent\"><img src=\"https://colab.research.google.com/assets/colab-badge.svg\" alt=\"Open In Colab\"/></a>"
      ]
    },
    {
      "cell_type": "markdown",
      "source": [
        "# COO Formatında Sparse Matris Oluşturma"
      ],
      "metadata": {
        "id": "dsQkiayUzwf5"
      }
    },
    {
      "cell_type": "markdown",
      "source": [
        "Coo (Coordinate List) formatında, yalnızca sıfır olmayan elemanlar saklanır ve her eleman için aşağıdaki bilgiler tutulur:\n",
        "\n",
        "\n",
        "1.   Satır (Row) İndeksi\n",
        "2.   Sütun (Column) İndeksi\n",
        "3.   Değer (Value)\n",
        "\n",
        "\n",
        "Örnek olarak şu 3x3 matrisini ele alalım:\n",
        "\n",
        "[0 0 3 <br>\n",
        " 4 0 0 <br>\n",
        " 0 5 0]\n",
        "​<br>\n",
        "0 olmayan değerler: <br>\n",
        "0. satır 2. sütunda 3 değeri ile,\n",
        "1. satır 0. sütunda 4 değeri ile,\n",
        "2. satır 1. sütunda 5 değeri ile tutulmaktadır.\n"
      ],
      "metadata": {
        "id": "ilwn-uc7z4Is"
      }
    },
    {
      "cell_type": "code",
      "execution_count": 1,
      "metadata": {
        "id": "5R3Z4ykZysWE"
      },
      "outputs": [],
      "source": [
        "import numpy as np\n",
        "from scipy.sparse import coo_matrix"
      ]
    },
    {
      "cell_type": "code",
      "source": [
        "#Dense (yoğun/normal) matris oluşturma\n",
        "dense_matrix = np.array([\n",
        "    [0, 0, 3],\n",
        "    [4, 0, 0],\n",
        "    [0, 5, 0]\n",
        "])"
      ],
      "metadata": {
        "id": "bUdAbvWfyyRI"
      },
      "execution_count": 2,
      "outputs": []
    },
    {
      "cell_type": "code",
      "source": [
        "#Sıfır olmayan elemanların indekslerini ve değerlerini bulma\n",
        "rows, cols = np.nonzero(dense_matrix)\n",
        "values = dense_matrix[rows, cols]"
      ],
      "metadata": {
        "id": "r2sM4dbrzCHq"
      },
      "execution_count": 3,
      "outputs": []
    },
    {
      "cell_type": "code",
      "source": [
        "#COO formatında sparse matris oluşturma\n",
        "sparse_coo = coo_matrix((values, (rows, cols)), shape = dense_matrix.shape)"
      ],
      "metadata": {
        "id": "PSe7orHezJow"
      },
      "execution_count": 4,
      "outputs": []
    },
    {
      "cell_type": "code",
      "source": [
        "print(\"Sparse Matrix (COO Formatında):\")\n",
        "print(sparse_coo)"
      ],
      "metadata": {
        "colab": {
          "base_uri": "https://localhost:8080/"
        },
        "id": "ocpci49kzYjp",
        "outputId": "8a2d204d-1e8d-4c3f-82c0-693a0be54b37"
      },
      "execution_count": 5,
      "outputs": [
        {
          "output_type": "stream",
          "name": "stdout",
          "text": [
            "Sparse Matrix (COO Formatted):\n",
            "  (0, 2)\t3\n",
            "  (1, 0)\t4\n",
            "  (2, 1)\t5\n"
          ]
        }
      ]
    },
    {
      "cell_type": "markdown",
      "source": [
        "# CSR (Compressed Sparse Row) Formatı"
      ],
      "metadata": {
        "id": "_hlJFdrX03-o"
      }
    },
    {
      "cell_type": "markdown",
      "source": [
        "Bu format sparse matrislerin verimli bir şekilde saklanması ve işlemlesi için kullanılır. Sıfır olmayan elemanların indeks bilgilerini daha sıkıştırılmış bir şekilde saklar."
      ],
      "metadata": {
        "id": "BwUOrvJT2sVu"
      }
    },
    {
      "cell_type": "code",
      "source": [
        "from scipy.sparse import csr_matrix"
      ],
      "metadata": {
        "id": "2vNKwlF-24pM"
      },
      "execution_count": 7,
      "outputs": []
    },
    {
      "cell_type": "code",
      "source": [
        "#CSR formatına dönüştürme\n",
        "sparse_csr = csr_matrix(dense_matrix)"
      ],
      "metadata": {
        "id": "MIaMQ2sp28XH"
      },
      "execution_count": 8,
      "outputs": []
    },
    {
      "cell_type": "code",
      "source": [
        "print(\"Sparse Matrix (CSR Formatında):\")\n",
        "print(sparse_csr)"
      ],
      "metadata": {
        "colab": {
          "base_uri": "https://localhost:8080/"
        },
        "id": "jkTydXlF3Cb8",
        "outputId": "267278d2-a837-4b15-e19e-7b5da8af2eaa"
      },
      "execution_count": 9,
      "outputs": [
        {
          "output_type": "stream",
          "name": "stdout",
          "text": [
            "Sparse Matrix (CSR Formatında):\n",
            "  (0, 2)\t3\n",
            "  (1, 0)\t4\n",
            "  (2, 1)\t5\n"
          ]
        }
      ]
    },
    {
      "cell_type": "markdown",
      "source": [
        "# Sparse Matristen Dense Matrise Dönüştürme"
      ],
      "metadata": {
        "id": "DqAU7EWO3GMc"
      }
    },
    {
      "cell_type": "code",
      "source": [
        "#Sparse matristen Numpy matrisine dönüşüm\n",
        "dense_recovered = sparse_csr.toarray()\n",
        "print(\"Geri Dönüştürülen Dense Matris:\")\n",
        "print(dense_recovered)"
      ],
      "metadata": {
        "colab": {
          "base_uri": "https://localhost:8080/"
        },
        "id": "dbCMF8Y53Kwf",
        "outputId": "6f2826bf-74a0-4ce2-b03e-7304a8a0cbdf"
      },
      "execution_count": 10,
      "outputs": [
        {
          "output_type": "stream",
          "name": "stdout",
          "text": [
            "Geri Dönüştürülen Dense Matris:\n",
            "[[0 0 3]\n",
            " [4 0 0]\n",
            " [0 5 0]]\n"
          ]
        }
      ]
    },
    {
      "cell_type": "markdown",
      "source": [
        "# Büyük Sparse Matrislerde Bellek Kullanımı"
      ],
      "metadata": {
        "id": "WrGRy-Rs3WiF"
      }
    },
    {
      "cell_type": "code",
      "source": [
        "#Büyük bir sparse matris oluşturma\n",
        "large_sparse = csr_matrix((10000, 10000))  #Tüm elemanları sıfır olan büyük matris\n",
        "large_sparse[0, 9999] = 5  # Rastgele bir elemana değer atama\n",
        "large_sparse[9999, 0] = 10"
      ],
      "metadata": {
        "colab": {
          "base_uri": "https://localhost:8080/"
        },
        "id": "17DkweMH3gnT",
        "outputId": "9e8974d3-db1d-4a28-e0bc-5adcf5da77f7"
      },
      "execution_count": 11,
      "outputs": [
        {
          "output_type": "stream",
          "name": "stderr",
          "text": [
            "/usr/local/lib/python3.11/dist-packages/scipy/sparse/_index.py:108: SparseEfficiencyWarning: Changing the sparsity structure of a csr_matrix is expensive. lil_matrix is more efficient.\n",
            "  self._set_intXint(row, col, x.flat[0])\n"
          ]
        }
      ]
    },
    {
      "cell_type": "code",
      "source": [
        "print(\"Dense Matrisin Bellekte Kapladığı Alan: \", large_sparse.toarray().nbytes, \"bayt\")\n",
        "print(\"Sparse Matrisin Bellekte Kapladığı Alan: \", large_sparse.data.nbytes, \"bayt\")"
      ],
      "metadata": {
        "colab": {
          "base_uri": "https://localhost:8080/"
        },
        "id": "ypgkngMq3qEG",
        "outputId": "ff477579-6dcd-4e5a-df23-16b3ab425279"
      },
      "execution_count": 12,
      "outputs": [
        {
          "output_type": "stream",
          "name": "stdout",
          "text": [
            "Dense Matrisin Bellekte Kapladığı Alan:  800000000 bayt\n",
            "Sparse Matrisin Bellekte Kapladığı Alan:  16 bayt\n"
          ]
        }
      ]
    },
    {
      "cell_type": "markdown",
      "source": [
        "# NLP'de Kullanım Örneği"
      ],
      "metadata": {
        "id": "EkllHD5y4Bzb"
      }
    },
    {
      "cell_type": "code",
      "source": [
        "from sklearn.feature_extraction.text import TfidfVectorizer\n",
        "from scipy.sparse import csr_matrix\n",
        "import numpy as np"
      ],
      "metadata": {
        "id": "XflrjLg34FI5"
      },
      "execution_count": 13,
      "outputs": []
    },
    {
      "cell_type": "code",
      "source": [
        "documents = [\n",
        "    \"Veri bilimi yapay zeka ile gelişiyor.\",\n",
        "    \"Makine öğrenmesi ve yapay zeka geleceği şekillendiriyor.\",\n",
        "    \"Derin öğrenme, makine öğrenmesi ile ilgilidir.\"\n",
        "]"
      ],
      "metadata": {
        "id": "hl6Uw_vD4Q_c"
      },
      "execution_count": 14,
      "outputs": []
    },
    {
      "cell_type": "code",
      "source": [
        "#TF-IDF Vektörizasyonu\n",
        "vectorizer =TfidfVectorizer()\n",
        "tfidf_matrix = vectorizer.fit_transform(documents)\n",
        "\n",
        "#Çıktı sparse matris olarak döner\n",
        "print(\"Matrisin Tipi: \", type(tfidf_matrix))"
      ],
      "metadata": {
        "colab": {
          "base_uri": "https://localhost:8080/"
        },
        "id": "ItQq-oRP4TYe",
        "outputId": "32b15d1a-ecec-42f0-89fb-5eafccff6b99"
      },
      "execution_count": 19,
      "outputs": [
        {
          "output_type": "stream",
          "name": "stdout",
          "text": [
            "Matrisin Tipi:  <class 'scipy.sparse._csr.csr_matrix'>\n"
          ]
        }
      ]
    },
    {
      "cell_type": "code",
      "source": [
        "#Sparse matrisin detayları\n",
        "print(\"TF-IDF Sparse Matris (CSR formatında):\")\n",
        "print(tfidf_matrix)"
      ],
      "metadata": {
        "colab": {
          "base_uri": "https://localhost:8080/"
        },
        "id": "LzFW1sMn4m5q",
        "outputId": "28a23ac7-c323-4a98-b163-e83ca43288ae"
      },
      "execution_count": 16,
      "outputs": [
        {
          "output_type": "stream",
          "name": "stdout",
          "text": [
            "TF-IDF Sparse Matris (CSR formatında):\n",
            "  (0, 8)\t0.45954803293870056\n",
            "  (0, 0)\t0.45954803293870056\n",
            "  (0, 9)\t0.3494981241087058\n",
            "  (0, 10)\t0.3494981241087058\n",
            "  (0, 4)\t0.3494981241087058\n",
            "  (0, 3)\t0.45954803293870056\n",
            "  (1, 9)\t0.3299283214573658\n",
            "  (1, 10)\t0.3299283214573658\n",
            "  (1, 6)\t0.3299283214573658\n",
            "  (1, 12)\t0.3299283214573658\n",
            "  (1, 7)\t0.4338160942155483\n",
            "  (1, 2)\t0.4338160942155483\n",
            "  (1, 13)\t0.4338160942155483\n",
            "  (2, 4)\t0.3494981241087058\n",
            "  (2, 6)\t0.3494981241087058\n",
            "  (2, 12)\t0.3494981241087058\n",
            "  (2, 1)\t0.45954803293870056\n",
            "  (2, 11)\t0.45954803293870056\n",
            "  (2, 5)\t0.45954803293870056\n"
          ]
        }
      ]
    },
    {
      "cell_type": "code",
      "source": [
        "#Matrisin içerdiği kelimeler\n",
        "print(\"\\nKelimeler (Sütun isimleri):\")\n",
        "print(vectorizer.get_feature_names_out())"
      ],
      "metadata": {
        "colab": {
          "base_uri": "https://localhost:8080/"
        },
        "id": "3ZUiZkG_4rvP",
        "outputId": "9e396dc2-3c5f-4ec3-f0be-c78067d466fb"
      },
      "execution_count": 17,
      "outputs": [
        {
          "output_type": "stream",
          "name": "stdout",
          "text": [
            "\n",
            "Kelimeler (Sütun isimleri):\n",
            "['bilimi' 'derin' 'geleceği' 'gelişiyor' 'ile' 'ilgilidir' 'makine' 've'\n",
            " 'veri' 'yapay' 'zeka' 'öğrenme' 'öğrenmesi' 'şekillendiriyor']\n"
          ]
        }
      ]
    },
    {
      "cell_type": "code",
      "source": [
        "#Dense matris olarak saklansaydı bellek tüketimi\n",
        "dense_matrix = tfidf_matrix.toarray()\n",
        "print(\"Dense Matrisin Boyutu (Bellekte):\", dense_matrix.nbytes, \"bayt\")\n",
        "print(\"\\nSparse Matrisin Boyutu (Bellekte):\", tfidf_matrix.data.nbytes, \"bayt\")"
      ],
      "metadata": {
        "colab": {
          "base_uri": "https://localhost:8080/"
        },
        "id": "cciuyVor4vBQ",
        "outputId": "bd53c0eb-2bec-494c-f9e7-9efd853208fd"
      },
      "execution_count": 18,
      "outputs": [
        {
          "output_type": "stream",
          "name": "stdout",
          "text": [
            "Dense Matrisin Boyutu (Bellekte): 336 bayt\n",
            "\n",
            "Sparse Matrisin Boyutu (Bellekte): 152 bayt\n"
          ]
        }
      ]
    }
  ]
}